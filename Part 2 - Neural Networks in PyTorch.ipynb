{
 "cells": [
  {
   "cell_type": "markdown",
   "metadata": {},
   "source": [
    "# Neural networks with PyTorch\n",
    "\n",
    "Next I'll show you how to build a neural network with PyTorch."
   ]
  },
  {
   "cell_type": "code",
   "execution_count": 1,
   "metadata": {},
   "outputs": [],
   "source": [
    "# Import things like usual\n",
    "\n",
    "%matplotlib inline\n",
    "%config InlineBackend.figure_format = 'retina'\n",
    "\n",
    "import numpy as np\n",
    "import torch\n",
    "\n",
    "import helper\n",
    "\n",
    "import matplotlib.pyplot as plt\n",
    "from torchvision import datasets, transforms"
   ]
  },
  {
   "cell_type": "markdown",
   "metadata": {},
   "source": [
    "First up, we need to get our dataset. This is provided through the `torchvision` package. The code below will download the MNIST dataset, then create training and test datasets for us. Don't worry too much about the details here, you'll learn more about this later."
   ]
  },
  {
   "cell_type": "code",
   "execution_count": 2,
   "metadata": {},
   "outputs": [
    {
     "name": "stdout",
     "output_type": "stream",
     "text": [
      "Downloading http://yann.lecun.com/exdb/mnist/train-images-idx3-ubyte.gz\n",
      "Downloading http://yann.lecun.com/exdb/mnist/train-labels-idx1-ubyte.gz\n",
      "Downloading http://yann.lecun.com/exdb/mnist/t10k-images-idx3-ubyte.gz\n",
      "Downloading http://yann.lecun.com/exdb/mnist/t10k-labels-idx1-ubyte.gz\n",
      "Processing...\n",
      "Done!\n"
     ]
    }
   ],
   "source": [
    "# Define a transform to normalize the data\n",
    "transform = transforms.Compose([transforms.ToTensor(),\n",
    "                              transforms.Normalize((0.5, 0.5, 0.5), (0.5, 0.5, 0.5)),\n",
    "                             ])\n",
    "# Download and load the training data\n",
    "trainset = datasets.MNIST('MNIST_data/', download=True, train=True, transform=transform)\n",
    "trainloader = torch.utils.data.DataLoader(trainset, batch_size=64, shuffle=True)\n",
    "\n",
    "# Download and load the test data\n",
    "testset = datasets.MNIST('MNIST_data/', download=True, train=False, transform=transform)\n",
    "testloader = torch.utils.data.DataLoader(testset, batch_size=64, shuffle=True)"
   ]
  },
  {
   "cell_type": "code",
   "execution_count": 9,
   "metadata": {},
   "outputs": [],
   "source": [
    "dataiter = iter(trainloader)\n",
    "images, labels = dataiter.next()"
   ]
  },
  {
   "cell_type": "markdown",
   "metadata": {},
   "source": [
    "We have the training data loaded into `trainloader` and we make that an iterator with `iter(trainloader)`. We'd use this to loop through the dataset for training, but here I'm just grabbing the first batch so we can check out the data. We can see below that `images` is just a tensor with size (64, 1, 28, 28). So, 64 images per batch, 1 color channel, and 28x28 images."
   ]
  },
  {
   "cell_type": "code",
   "execution_count": 10,
   "metadata": {},
   "outputs": [
    {
     "data": {
      "image/png": "[encoded data removed]",
      "text/plain": [
       "<Figure size 432x288 with 1 Axes>"
      ]
     },
     "metadata": {
      "image/png": {
       "height": 250,
       "width": 253
      },
      "needs_background": "light"
     },
     "output_type": "display_data"
    }
   ],
   "source": [
    "plt.imshow(images[1].numpy().squeeze(), cmap='Greys_r');"
   ]
  },
  {
   "cell_type": "markdown",
   "metadata": {},
   "source": [
    "## Building networks with PyTorch\n",
    "\n",
    "Here I'll use PyTorch to build a simple feedfoward network to classify the MNIST images. That is, the network will receive a digit image as input and predict the digit in the image.\n",
    "\n",
    "<img src=\"assets/mlp_mnist.png\" width=600px>\n",
    "\n",
    "To build a neural network with PyTorch, you use the `torch.nn` module. The network itself is a class inheriting from `torch.nn.Module`. You define each of the operations separately, like `nn.Linear(784, 128)` for a fully connected linear layer with 784 inputs and 128 units.\n",
    "\n",
    "The class needs to include a `forward` method that implements the forward pass through the network. In this method, you pass some input tensor `x` through each of the operations you defined earlier. The `torch.nn` module also has functional equivalents for things like ReLUs in `torch.nn.functional`. This module is usually imported as `F`. Then to use a ReLU activation on some layer (which is just a tensor), you'd do `F.relu(x)`. Below are a few different commonly used activation functions.\n",
    "\n",
    "<img src=\"assets/activation.png\" width=700px>\n",
    "\n",
    "So, for this network, I'll build it with three fully connected layers, then a softmax output for predicting classes. The softmax function is similar to the sigmoid in that it squashes inputs between 0 and 1, but it's also normalized so that all the values sum to one like a proper probability distribution."
   ]
  },
  {
   "cell_type": "code",
   "execution_count": 2,
   "metadata": {},
   "outputs": [],
   "source": [
    "from torch import nn\n",
    "from torch import optim\n",
    "import torch.nn.functional as F"
   ]
  },
  {
   "cell_type": "code",
   "execution_count": 3,
   "metadata": {
    "scrolled": true
   },
   "outputs": [
    {
     "data": {
      "text/plain": [
       "Network(\n",
       "  (fc1): Linear(in_features=784, out_features=128, bias=True)\n",
       "  (fc2): Linear(in_features=128, out_features=64, bias=True)\n",
       "  (fc3): Linear(in_features=64, out_features=10, bias=True)\n",
       ")"
      ]
     },
     "execution_count": 3,
     "metadata": {},
     "output_type": "execute_result"
    }
   ],
   "source": [
    "class Network(nn.Module):\n",
    "    def __init__(self):\n",
    "        super().__init__()\n",
    "        # Defining the layers, 128, 64, 10 units each\n",
    "        self.fc1 = nn.Linear(784, 128)\n",
    "        self.fc2 = nn.Linear(128, 64)\n",
    "        # Output layer, 10 units - one for each digit\n",
    "        self.fc3 = nn.Linear(64, 10)\n",
    "        \n",
    "    def forward(self, x):\n",
    "        ''' Forward pass through the network, returns the output logits '''\n",
    "        \n",
    "        x = self.fc1(x)\n",
    "        x = F.relu(x)\n",
    "        x = self.fc2(x)\n",
    "        x = F.relu(x)\n",
    "        x = self.fc3(x)\n",
    "        x = F.softmax(x, dim=1)\n",
    "        \n",
    "        return x\n",
    "\n",
    "model = Network()\n",
    "model"
   ]
  },
  {
   "cell_type": "markdown",
   "metadata": {},
   "source": [
    "### Initializing weights and biases\n",
    "\n",
    "The weights and such are automatically initialized for you, but it's possible to customize how they are initialized. The weights and biases are tensors attached to the layer you defined, you can get them with `model.fc1.weight` for instance."
   ]
  },
  {
   "cell_type": "code",
   "execution_count": 4,
   "metadata": {},
   "outputs": [
    {
     "name": "stdout",
     "output_type": "stream",
     "text": [
      "Parameter containing:\n",
      "tensor([[-0.0021, -0.0084,  0.0314,  ..., -0.0171,  0.0228,  0.0149],\n",
      "        [-0.0289,  0.0297, -0.0299,  ..., -0.0044, -0.0193,  0.0179],\n",
      "        [ 0.0067, -0.0057, -0.0055,  ...,  0.0196, -0.0262, -0.0198],\n",
      "        ...,\n",
      "        [-0.0133, -0.0124,  0.0138,  ..., -0.0337,  0.0125, -0.0254],\n",
      "        [-0.0163,  0.0026, -0.0355,  ..., -0.0005,  0.0015,  0.0140],\n",
      "        [ 0.0202,  0.0180, -0.0095,  ...,  0.0194,  0.0072,  0.0222]],\n",
      "       requires_grad=True)\n",
      "Parameter containing:\n",
      "tensor([ 0.0331, -0.0335,  0.0195,  0.0296, -0.0183,  0.0144, -0.0021,  0.0098,\n",
      "        -0.0094,  0.0172,  0.0187, -0.0329,  0.0355, -0.0136,  0.0002, -0.0085,\n",
      "         0.0257, -0.0278, -0.0242, -0.0001,  0.0156,  0.0211,  0.0227,  0.0003,\n",
      "         0.0291, -0.0043, -0.0274,  0.0181, -0.0351,  0.0173,  0.0307, -0.0261,\n",
      "         0.0183,  0.0139,  0.0053,  0.0109,  0.0350, -0.0293, -0.0050, -0.0342,\n",
      "         0.0337, -0.0000, -0.0079,  0.0154, -0.0000, -0.0140,  0.0188,  0.0162,\n",
      "         0.0292, -0.0114, -0.0034,  0.0114,  0.0313,  0.0300, -0.0155,  0.0105,\n",
      "        -0.0323, -0.0154,  0.0180,  0.0113,  0.0234, -0.0039,  0.0208, -0.0134,\n",
      "        -0.0356, -0.0302, -0.0044,  0.0012, -0.0158, -0.0153, -0.0277, -0.0307,\n",
      "        -0.0209,  0.0257,  0.0227, -0.0200, -0.0193, -0.0181, -0.0045,  0.0162,\n",
      "         0.0333, -0.0299, -0.0135,  0.0051,  0.0181,  0.0137, -0.0293, -0.0036,\n",
      "        -0.0141, -0.0312,  0.0339, -0.0308, -0.0160,  0.0040,  0.0102,  0.0005,\n",
      "        -0.0165, -0.0033,  0.0299,  0.0115,  0.0242,  0.0151,  0.0072, -0.0302,\n",
      "        -0.0305, -0.0020,  0.0188, -0.0342, -0.0305, -0.0318, -0.0107, -0.0336,\n",
      "         0.0065,  0.0185, -0.0077, -0.0351,  0.0086, -0.0099,  0.0088, -0.0131,\n",
      "         0.0113,  0.0285, -0.0319, -0.0090,  0.0135, -0.0187, -0.0063,  0.0065],\n",
      "       requires_grad=True)\n"
     ]
    }
   ],
   "source": [
    "print(model.fc1.weight)\n",
    "print(model.fc1.bias)"
   ]
  },
  {
   "cell_type": "markdown",
   "metadata": {},
   "source": [
    "For custom initialization, we want to modify these tensors in place. These are actually autograd *Variables*, so we need to get back the actual tensors with `model.fc1.weight.data`. Once we have the tensors, we can fill them with zeros (for biases) or random normal values."
   ]
  },
  {
   "cell_type": "code",
   "execution_count": 5,
   "metadata": {},
   "outputs": [
    {
     "data": {
      "text/plain": [
       "tensor([0., 0., 0., 0., 0., 0., 0., 0., 0., 0., 0., 0., 0., 0., 0., 0., 0., 0.,\n",
       "        0., 0., 0., 0., 0., 0., 0., 0., 0., 0., 0., 0., 0., 0., 0., 0., 0., 0.,\n",
       "        0., 0., 0., 0., 0., 0., 0., 0., 0., 0., 0., 0., 0., 0., 0., 0., 0., 0.,\n",
       "        0., 0., 0., 0., 0., 0., 0., 0., 0., 0., 0., 0., 0., 0., 0., 0., 0., 0.,\n",
       "        0., 0., 0., 0., 0., 0., 0., 0., 0., 0., 0., 0., 0., 0., 0., 0., 0., 0.,\n",
       "        0., 0., 0., 0., 0., 0., 0., 0., 0., 0., 0., 0., 0., 0., 0., 0., 0., 0.,\n",
       "        0., 0., 0., 0., 0., 0., 0., 0., 0., 0., 0., 0., 0., 0., 0., 0., 0., 0.,\n",
       "        0., 0.])"
      ]
     },
     "execution_count": 5,
     "metadata": {},
     "output_type": "execute_result"
    }
   ],
   "source": [
    "# Set biases to all zeros\n",
    "model.fc1.bias.data.fill_(0)"
   ]
  },
  {
   "cell_type": "code",
   "execution_count": 6,
   "metadata": {},
   "outputs": [
    {
     "data": {
      "text/plain": [
       "tensor([[-0.0019,  0.0047, -0.0204,  ...,  0.0117,  0.0015,  0.0056],\n",
       "        [ 0.0117, -0.0015, -0.0066,  ...,  0.0069,  0.0165,  0.0020],\n",
       "        [ 0.0039,  0.0007, -0.0012,  ..., -0.0072,  0.0004,  0.0102],\n",
       "        ...,\n",
       "        [ 0.0017, -0.0268, -0.0095,  ..., -0.0044, -0.0025, -0.0075],\n",
       "        [ 0.0093,  0.0030,  0.0050,  ..., -0.0049, -0.0015, -0.0145],\n",
       "        [ 0.0200,  0.0148, -0.0041,  ...,  0.0205,  0.0018, -0.0082]])"
      ]
     },
     "execution_count": 6,
     "metadata": {},
     "output_type": "execute_result"
    }
   ],
   "source": [
    "# sample from random normal with standard dev = 0.01\n",
    "model.fc1.weight.data.normal_(std=0.01)"
   ]
  },
  {
   "cell_type": "markdown",
   "metadata": {},
   "source": [
    "### Forward pass\n",
    "\n",
    "Now that we have a network, let's see what happens when we pass in an image. This is called the forward pass. We're going to convert the image data into a tensor, then pass it through the operations defined by the network architecture."
   ]
  },
  {
   "cell_type": "code",
   "execution_count": 7,
   "metadata": {},
   "outputs": [
    {
     "ename": "NameError",
     "evalue": "name 'trainloader' is not defined",
     "output_type": "error",
     "traceback": [
      "\u001b[0;31m---------------------------------------------------------------------------\u001b[0m",
      "\u001b[0;31mNameError\u001b[0m                                 Traceback (most recent call last)",
      "\u001b[0;32m<ipython-input-7-8750d1672a0f>\u001b[0m in \u001b[0;36m<module>\u001b[0;34m\u001b[0m\n\u001b[1;32m      1\u001b[0m \u001b[0;31m# Grab some data\u001b[0m\u001b[0;34m\u001b[0m\u001b[0;34m\u001b[0m\u001b[0;34m\u001b[0m\u001b[0m\n\u001b[0;32m----> 2\u001b[0;31m \u001b[0mdataiter\u001b[0m \u001b[0;34m=\u001b[0m \u001b[0miter\u001b[0m\u001b[0;34m(\u001b[0m\u001b[0mtrainloader\u001b[0m\u001b[0;34m)\u001b[0m\u001b[0;34m\u001b[0m\u001b[0;34m\u001b[0m\u001b[0m\n\u001b[0m\u001b[1;32m      3\u001b[0m \u001b[0mimages\u001b[0m\u001b[0;34m,\u001b[0m \u001b[0mlabels\u001b[0m \u001b[0;34m=\u001b[0m \u001b[0mdataiter\u001b[0m\u001b[0;34m.\u001b[0m\u001b[0mnext\u001b[0m\u001b[0;34m(\u001b[0m\u001b[0;34m)\u001b[0m\u001b[0;34m\u001b[0m\u001b[0;34m\u001b[0m\u001b[0m\n\u001b[1;32m      4\u001b[0m \u001b[0;34m\u001b[0m\u001b[0m\n\u001b[1;32m      5\u001b[0m \u001b[0;31m# Resize images into a 1D vector, new shape is (batch size, color channels, image pixels)\u001b[0m\u001b[0;34m\u001b[0m\u001b[0;34m\u001b[0m\u001b[0;34m\u001b[0m\u001b[0m\n",
      "\u001b[0;31mNameError\u001b[0m: name 'trainloader' is not defined"
     ]
    }
   ],
   "source": [
    "# Grab some data \n",
    "dataiter = iter(trainloader)\n",
    "images, labels = dataiter.next()\n",
    "\n",
    "# Resize images into a 1D vector, new shape is (batch size, color channels, image pixels) \n",
    "images.resize_(64, 1, 784)\n",
    "# or images.resize_(images.shape[0], 1, 784) to not automatically get batch size\n",
    "\n",
    "# Forward pass through the network\n",
    "img_idx = 0\n",
    "ps = model.forward(images[img_idx,:])\n",
    "\n",
    "img = images[img_idx]\n",
    "helper.view_classify(img.view(1, 28, 28), ps)"
   ]
  },
  {
   "cell_type": "code",
   "execution_count": 8,
   "metadata": {},
   "outputs": [
    {
     "data": {
      "image/svg+xml": [
       "<?xml version=\"1.0\" encoding=\"UTF-8\" standalone=\"no\"?>\n",
       "<!DOCTYPE svg PUBLIC \"-//W3C//DTD SVG 1.1//EN\"\n",
       " \"http://www.w3.org/Graphics/SVG/1.1/DTD/svg11.dtd\">\n",
       "<!-- Generated by graphviz version 2.38.0 (20140413.2041)\n",
       " -->\n",
       "<!-- Title: %3 Pages: 1 -->\n",
       "<svg width=\"317pt\" height=\"524pt\"\n",
       " viewBox=\"0.00 0.00 316.50 524.00\" xmlns=\"http://www.w3.org/2000/svg\" xmlns:xlink=\"http://www.w3.org/1999/xlink\">\n",
       "<g id=\"graph0\" class=\"graph\" transform=\"scale(1 1) rotate(0) translate(4 520)\">\n",
       "<title>%3</title>\n",
       "<polygon fill=\"white\" stroke=\"none\" points=\"-4,4 -4,-520 312.5,-520 312.5,4 -4,4\"/>\n",
       "<!-- 140275374057064 -->\n",
       "<g id=\"node1\" class=\"node\"><title>140275374057064</title>\n",
       "<polygon fill=\"#caff70\" stroke=\"black\" points=\"218,-21 120,-21 120,-0 218,-0 218,-21\"/>\n",
       "<text text-anchor=\"middle\" x=\"169\" y=\"-7.4\" font-family=\"Times,serif\" font-size=\"12.00\">MeanBackward1</text>\n",
       "</g>\n",
       "<!-- 140275374057232 -->\n",
       "<g id=\"node2\" class=\"node\"><title>140275374057232</title>\n",
       "<polygon fill=\"lightgrey\" stroke=\"black\" points=\"221.5,-78 116.5,-78 116.5,-57 221.5,-57 221.5,-78\"/>\n",
       "<text text-anchor=\"middle\" x=\"169\" y=\"-64.4\" font-family=\"Times,serif\" font-size=\"12.00\">SoftmaxBackward</text>\n",
       "</g>\n",
       "<!-- 140275374057232&#45;&gt;140275374057064 -->\n",
       "<g id=\"edge1\" class=\"edge\"><title>140275374057232&#45;&gt;140275374057064</title>\n",
       "<path fill=\"none\" stroke=\"black\" d=\"M169,-56.9197C169,-49.9083 169,-40.1442 169,-31.4652\"/>\n",
       "<polygon fill=\"black\" stroke=\"black\" points=\"172.5,-31.3408 169,-21.3408 165.5,-31.3409 172.5,-31.3408\"/>\n",
       "</g>\n",
       "<!-- 140275374056392 -->\n",
       "<g id=\"node3\" class=\"node\"><title>140275374056392</title>\n",
       "<polygon fill=\"lightgrey\" stroke=\"black\" points=\"228,-135 110,-135 110,-114 228,-114 228,-135\"/>\n",
       "<text text-anchor=\"middle\" x=\"169\" y=\"-121.4\" font-family=\"Times,serif\" font-size=\"12.00\">ThAddmmBackward</text>\n",
       "</g>\n",
       "<!-- 140275374056392&#45;&gt;140275374057232 -->\n",
       "<g id=\"edge2\" class=\"edge\"><title>140275374056392&#45;&gt;140275374057232</title>\n",
       "<path fill=\"none\" stroke=\"black\" d=\"M169,-113.92C169,-106.908 169,-97.1442 169,-88.4652\"/>\n",
       "<polygon fill=\"black\" stroke=\"black\" points=\"172.5,-88.3408 169,-78.3408 165.5,-88.3409 172.5,-88.3408\"/>\n",
       "</g>\n",
       "<!-- 140275374059304 -->\n",
       "<g id=\"node4\" class=\"node\"><title>140275374059304</title>\n",
       "<polygon fill=\"lightgrey\" stroke=\"black\" points=\"107,-192 5,-192 5,-171 107,-171 107,-192\"/>\n",
       "<text text-anchor=\"middle\" x=\"56\" y=\"-178.4\" font-family=\"Times,serif\" font-size=\"12.00\">ExpandBackward</text>\n",
       "</g>\n",
       "<!-- 140275374059304&#45;&gt;140275374056392 -->\n",
       "<g id=\"edge3\" class=\"edge\"><title>140275374059304&#45;&gt;140275374056392</title>\n",
       "<path fill=\"none\" stroke=\"black\" d=\"M75.6831,-170.92C93.4787,-162.258 119.905,-149.396 140.098,-139.567\"/>\n",
       "<polygon fill=\"black\" stroke=\"black\" points=\"141.704,-142.679 149.163,-135.155 138.64,-136.384 141.704,-142.679\"/>\n",
       "</g>\n",
       "<!-- 140275374081696 -->\n",
       "<g id=\"node5\" class=\"node\"><title>140275374081696</title>\n",
       "<polygon fill=\"lightblue\" stroke=\"black\" points=\"83,-262 29,-262 29,-228 83,-228 83,-262\"/>\n",
       "<text text-anchor=\"middle\" x=\"56\" y=\"-248.4\" font-family=\"Times,serif\" font-size=\"12.00\">fc3.bias</text>\n",
       "<text text-anchor=\"middle\" x=\"56\" y=\"-235.4\" font-family=\"Times,serif\" font-size=\"12.00\"> (10)</text>\n",
       "</g>\n",
       "<!-- 140275374081696&#45;&gt;140275374059304 -->\n",
       "<g id=\"edge4\" class=\"edge\"><title>140275374081696&#45;&gt;140275374059304</title>\n",
       "<path fill=\"none\" stroke=\"black\" d=\"M56,-227.842C56,-220.012 56,-210.54 56,-202.282\"/>\n",
       "<polygon fill=\"black\" stroke=\"black\" points=\"59.5001,-202.042 56,-192.042 52.5001,-202.042 59.5001,-202.042\"/>\n",
       "</g>\n",
       "<!-- 140275374080408 -->\n",
       "<g id=\"node6\" class=\"node\"><title>140275374080408</title>\n",
       "<polygon fill=\"lightgrey\" stroke=\"black\" points=\"213,-192 125,-192 125,-171 213,-171 213,-192\"/>\n",
       "<text text-anchor=\"middle\" x=\"169\" y=\"-178.4\" font-family=\"Times,serif\" font-size=\"12.00\">ReluBackward</text>\n",
       "</g>\n",
       "<!-- 140275374080408&#45;&gt;140275374056392 -->\n",
       "<g id=\"edge5\" class=\"edge\"><title>140275374080408&#45;&gt;140275374056392</title>\n",
       "<path fill=\"none\" stroke=\"black\" d=\"M169,-170.92C169,-163.908 169,-154.144 169,-145.465\"/>\n",
       "<polygon fill=\"black\" stroke=\"black\" points=\"172.5,-145.341 169,-135.341 165.5,-145.341 172.5,-145.341\"/>\n",
       "</g>\n",
       "<!-- 140275374083096 -->\n",
       "<g id=\"node7\" class=\"node\"><title>140275374083096</title>\n",
       "<polygon fill=\"lightgrey\" stroke=\"black\" points=\"223,-255.5 105,-255.5 105,-234.5 223,-234.5 223,-255.5\"/>\n",
       "<text text-anchor=\"middle\" x=\"164\" y=\"-241.9\" font-family=\"Times,serif\" font-size=\"12.00\">ThAddmmBackward</text>\n",
       "</g>\n",
       "<!-- 140275374083096&#45;&gt;140275374080408 -->\n",
       "<g id=\"edge6\" class=\"edge\"><title>140275374083096&#45;&gt;140275374080408</title>\n",
       "<path fill=\"none\" stroke=\"black\" d=\"M164.781,-234.391C165.474,-225.866 166.509,-213.139 167.38,-202.423\"/>\n",
       "<polygon fill=\"black\" stroke=\"black\" points=\"170.886,-202.496 168.208,-192.245 163.909,-201.928 170.886,-202.496\"/>\n",
       "</g>\n",
       "<!-- 140275374083320 -->\n",
       "<g id=\"node8\" class=\"node\"><title>140275374083320</title>\n",
       "<polygon fill=\"lightgrey\" stroke=\"black\" points=\"102,-319 7.10543e-15,-319 7.10543e-15,-298 102,-298 102,-319\"/>\n",
       "<text text-anchor=\"middle\" x=\"51\" y=\"-305.4\" font-family=\"Times,serif\" font-size=\"12.00\">ExpandBackward</text>\n",
       "</g>\n",
       "<!-- 140275374083320&#45;&gt;140275374083096 -->\n",
       "<g id=\"edge7\" class=\"edge\"><title>140275374083320&#45;&gt;140275374083096</title>\n",
       "<path fill=\"none\" stroke=\"black\" d=\"M68.6562,-297.891C87.1486,-287.826 116.401,-271.906 137.631,-260.351\"/>\n",
       "<polygon fill=\"black\" stroke=\"black\" points=\"139.357,-263.396 146.468,-255.542 136.011,-257.248 139.357,-263.396\"/>\n",
       "</g>\n",
       "<!-- 140275373282304 -->\n",
       "<g id=\"node9\" class=\"node\"><title>140275373282304</title>\n",
       "<polygon fill=\"lightblue\" stroke=\"black\" points=\"78,-389 24,-389 24,-355 78,-355 78,-389\"/>\n",
       "<text text-anchor=\"middle\" x=\"51\" y=\"-375.4\" font-family=\"Times,serif\" font-size=\"12.00\">fc2.bias</text>\n",
       "<text text-anchor=\"middle\" x=\"51\" y=\"-362.4\" font-family=\"Times,serif\" font-size=\"12.00\"> (64)</text>\n",
       "</g>\n",
       "<!-- 140275373282304&#45;&gt;140275374083320 -->\n",
       "<g id=\"edge8\" class=\"edge\"><title>140275373282304&#45;&gt;140275374083320</title>\n",
       "<path fill=\"none\" stroke=\"black\" d=\"M51,-354.842C51,-347.012 51,-337.54 51,-329.282\"/>\n",
       "<polygon fill=\"black\" stroke=\"black\" points=\"54.5001,-329.042 51,-319.042 47.5001,-329.042 54.5001,-329.042\"/>\n",
       "</g>\n",
       "<!-- 140275373174736 -->\n",
       "<g id=\"node10\" class=\"node\"><title>140275373174736</title>\n",
       "<polygon fill=\"lightgrey\" stroke=\"black\" points=\"208,-319 120,-319 120,-298 208,-298 208,-319\"/>\n",
       "<text text-anchor=\"middle\" x=\"164\" y=\"-305.4\" font-family=\"Times,serif\" font-size=\"12.00\">ReluBackward</text>\n",
       "</g>\n",
       "<!-- 140275373174736&#45;&gt;140275374083096 -->\n",
       "<g id=\"edge9\" class=\"edge\"><title>140275373174736&#45;&gt;140275374083096</title>\n",
       "<path fill=\"none\" stroke=\"black\" d=\"M164,-297.891C164,-289.366 164,-276.639 164,-265.923\"/>\n",
       "<polygon fill=\"black\" stroke=\"black\" points=\"167.5,-265.745 164,-255.745 160.5,-265.745 167.5,-265.745\"/>\n",
       "</g>\n",
       "<!-- 140275373282360 -->\n",
       "<g id=\"node11\" class=\"node\"><title>140275373282360</title>\n",
       "<polygon fill=\"lightgrey\" stroke=\"black\" points=\"218,-382.5 100,-382.5 100,-361.5 218,-361.5 218,-382.5\"/>\n",
       "<text text-anchor=\"middle\" x=\"159\" y=\"-368.9\" font-family=\"Times,serif\" font-size=\"12.00\">ThAddmmBackward</text>\n",
       "</g>\n",
       "<!-- 140275373282360&#45;&gt;140275373174736 -->\n",
       "<g id=\"edge10\" class=\"edge\"><title>140275373282360&#45;&gt;140275373174736</title>\n",
       "<path fill=\"none\" stroke=\"black\" d=\"M159.781,-361.391C160.474,-352.866 161.509,-340.139 162.38,-329.423\"/>\n",
       "<polygon fill=\"black\" stroke=\"black\" points=\"165.886,-329.496 163.208,-319.245 158.909,-328.928 165.886,-329.496\"/>\n",
       "</g>\n",
       "<!-- 140275373282472 -->\n",
       "<g id=\"node12\" class=\"node\"><title>140275373282472</title>\n",
       "<polygon fill=\"lightgrey\" stroke=\"black\" points=\"157,-446 55,-446 55,-425 157,-425 157,-446\"/>\n",
       "<text text-anchor=\"middle\" x=\"106\" y=\"-432.4\" font-family=\"Times,serif\" font-size=\"12.00\">ExpandBackward</text>\n",
       "</g>\n",
       "<!-- 140275373282472&#45;&gt;140275373282360 -->\n",
       "<g id=\"edge11\" class=\"edge\"><title>140275373282472&#45;&gt;140275373282360</title>\n",
       "<path fill=\"none\" stroke=\"black\" d=\"M114.281,-424.891C122.169,-415.738 134.231,-401.741 143.841,-390.59\"/>\n",
       "<polygon fill=\"black\" stroke=\"black\" points=\"146.725,-392.605 150.602,-382.745 141.422,-388.035 146.725,-392.605\"/>\n",
       "</g>\n",
       "<!-- 140275373282640 -->\n",
       "<g id=\"node13\" class=\"node\"><title>140275373282640</title>\n",
       "<polygon fill=\"lightblue\" stroke=\"black\" points=\"133,-516 79,-516 79,-482 133,-482 133,-516\"/>\n",
       "<text text-anchor=\"middle\" x=\"106\" y=\"-502.4\" font-family=\"Times,serif\" font-size=\"12.00\">fc1.bias</text>\n",
       "<text text-anchor=\"middle\" x=\"106\" y=\"-489.4\" font-family=\"Times,serif\" font-size=\"12.00\"> (128)</text>\n",
       "</g>\n",
       "<!-- 140275373282640&#45;&gt;140275373282472 -->\n",
       "<g id=\"edge12\" class=\"edge\"><title>140275373282640&#45;&gt;140275373282472</title>\n",
       "<path fill=\"none\" stroke=\"black\" d=\"M106,-481.842C106,-474.012 106,-464.54 106,-456.282\"/>\n",
       "<polygon fill=\"black\" stroke=\"black\" points=\"109.5,-456.042 106,-446.042 102.5,-456.042 109.5,-456.042\"/>\n",
       "</g>\n",
       "<!-- 140275373282528 -->\n",
       "<g id=\"node14\" class=\"node\"><title>140275373282528</title>\n",
       "<polygon fill=\"lightgrey\" stroke=\"black\" points=\"248.5,-446 175.5,-446 175.5,-425 248.5,-425 248.5,-446\"/>\n",
       "<text text-anchor=\"middle\" x=\"212\" y=\"-432.4\" font-family=\"Times,serif\" font-size=\"12.00\">TBackward</text>\n",
       "</g>\n",
       "<!-- 140275373282528&#45;&gt;140275373282360 -->\n",
       "<g id=\"edge13\" class=\"edge\"><title>140275373282528&#45;&gt;140275373282360</title>\n",
       "<path fill=\"none\" stroke=\"black\" d=\"M203.719,-424.891C195.831,-415.738 183.769,-401.741 174.159,-390.59\"/>\n",
       "<polygon fill=\"black\" stroke=\"black\" points=\"176.578,-388.035 167.398,-382.745 171.275,-392.605 176.578,-388.035\"/>\n",
       "</g>\n",
       "<!-- 140275373282696 -->\n",
       "<g id=\"node15\" class=\"node\"><title>140275373282696</title>\n",
       "<polygon fill=\"lightblue\" stroke=\"black\" points=\"246.5,-516 177.5,-516 177.5,-482 246.5,-482 246.5,-516\"/>\n",
       "<text text-anchor=\"middle\" x=\"212\" y=\"-502.4\" font-family=\"Times,serif\" font-size=\"12.00\">fc1.weight</text>\n",
       "<text text-anchor=\"middle\" x=\"212\" y=\"-489.4\" font-family=\"Times,serif\" font-size=\"12.00\"> (128, 784)</text>\n",
       "</g>\n",
       "<!-- 140275373282696&#45;&gt;140275373282528 -->\n",
       "<g id=\"edge14\" class=\"edge\"><title>140275373282696&#45;&gt;140275373282528</title>\n",
       "<path fill=\"none\" stroke=\"black\" d=\"M212,-481.842C212,-474.012 212,-464.54 212,-456.282\"/>\n",
       "<polygon fill=\"black\" stroke=\"black\" points=\"215.5,-456.042 212,-446.042 208.5,-456.042 215.5,-456.042\"/>\n",
       "</g>\n",
       "<!-- 140275373281352 -->\n",
       "<g id=\"node16\" class=\"node\"><title>140275373281352</title>\n",
       "<polygon fill=\"lightgrey\" stroke=\"black\" points=\"300.5,-319 227.5,-319 227.5,-298 300.5,-298 300.5,-319\"/>\n",
       "<text text-anchor=\"middle\" x=\"264\" y=\"-305.4\" font-family=\"Times,serif\" font-size=\"12.00\">TBackward</text>\n",
       "</g>\n",
       "<!-- 140275373281352&#45;&gt;140275374083096 -->\n",
       "<g id=\"edge15\" class=\"edge\"><title>140275373281352&#45;&gt;140275374083096</title>\n",
       "<path fill=\"none\" stroke=\"black\" d=\"M248.375,-297.891C232.23,-287.962 206.818,-272.333 188.098,-260.82\"/>\n",
       "<polygon fill=\"black\" stroke=\"black\" points=\"189.867,-257.799 179.515,-255.542 186.2,-263.762 189.867,-257.799\"/>\n",
       "</g>\n",
       "<!-- 140275373282416 -->\n",
       "<g id=\"node17\" class=\"node\"><title>140275373282416</title>\n",
       "<polygon fill=\"lightblue\" stroke=\"black\" points=\"303.5,-389 236.5,-389 236.5,-355 303.5,-355 303.5,-389\"/>\n",
       "<text text-anchor=\"middle\" x=\"270\" y=\"-375.4\" font-family=\"Times,serif\" font-size=\"12.00\">fc2.weight</text>\n",
       "<text text-anchor=\"middle\" x=\"270\" y=\"-362.4\" font-family=\"Times,serif\" font-size=\"12.00\"> (64, 128)</text>\n",
       "</g>\n",
       "<!-- 140275373282416&#45;&gt;140275373281352 -->\n",
       "<g id=\"edge16\" class=\"edge\"><title>140275373282416&#45;&gt;140275373281352</title>\n",
       "<path fill=\"none\" stroke=\"black\" d=\"M268.424,-354.842C267.651,-346.923 266.715,-337.324 265.902,-329.001\"/>\n",
       "<polygon fill=\"black\" stroke=\"black\" points=\"269.385,-328.655 264.931,-319.042 262.419,-329.335 269.385,-328.655\"/>\n",
       "</g>\n",
       "<!-- 140275374080968 -->\n",
       "<g id=\"node18\" class=\"node\"><title>140275374080968</title>\n",
       "<polygon fill=\"lightgrey\" stroke=\"black\" points=\"305.5,-192 232.5,-192 232.5,-171 305.5,-171 305.5,-192\"/>\n",
       "<text text-anchor=\"middle\" x=\"269\" y=\"-178.4\" font-family=\"Times,serif\" font-size=\"12.00\">TBackward</text>\n",
       "</g>\n",
       "<!-- 140275374080968&#45;&gt;140275374056392 -->\n",
       "<g id=\"edge17\" class=\"edge\"><title>140275374080968&#45;&gt;140275374056392</title>\n",
       "<path fill=\"none\" stroke=\"black\" d=\"M251.581,-170.92C236.189,-162.454 213.501,-149.976 195.798,-140.239\"/>\n",
       "<polygon fill=\"black\" stroke=\"black\" points=\"197.003,-136.908 186.555,-135.155 193.63,-143.041 197.003,-136.908\"/>\n",
       "</g>\n",
       "<!-- 140275374083264 -->\n",
       "<g id=\"node19\" class=\"node\"><title>140275374083264</title>\n",
       "<polygon fill=\"lightblue\" stroke=\"black\" points=\"308.5,-262 241.5,-262 241.5,-228 308.5,-228 308.5,-262\"/>\n",
       "<text text-anchor=\"middle\" x=\"275\" y=\"-248.4\" font-family=\"Times,serif\" font-size=\"12.00\">fc3.weight</text>\n",
       "<text text-anchor=\"middle\" x=\"275\" y=\"-235.4\" font-family=\"Times,serif\" font-size=\"12.00\"> (10, 64)</text>\n",
       "</g>\n",
       "<!-- 140275374083264&#45;&gt;140275374080968 -->\n",
       "<g id=\"edge18\" class=\"edge\"><title>140275374083264&#45;&gt;140275374080968</title>\n",
       "<path fill=\"none\" stroke=\"black\" d=\"M273.424,-227.842C272.651,-219.923 271.715,-210.324 270.902,-202.001\"/>\n",
       "<polygon fill=\"black\" stroke=\"black\" points=\"274.385,-201.655 269.931,-192.042 267.419,-202.335 274.385,-201.655\"/>\n",
       "</g>\n",
       "</g>\n",
       "</svg>\n"
      ],
      "text/plain": [
       "<graphviz.dot.Digraph at 0x7f9467d76630>"
      ]
     },
     "execution_count": 8,
     "metadata": {},
     "output_type": "execute_result"
    }
   ],
   "source": [
    "from torchviz import make_dot, make_dot_from_trace\n",
    "# Using torchvize to visualize our built model\n",
    "# https://github.com/szagoruyko/pytorchviz/blob/master/examples.ipynb\n",
    "x=torch.randn(1,784)\n",
    "y=model(x)\n",
    "\n",
    "make_dot(y.mean(), params=dict(model.named_parameters()))"
   ]
  },
  {
   "cell_type": "markdown",
   "metadata": {},
   "source": [
    "As you can see above, our network has basically no idea what this digit is. It's because we haven't trained it yet, all the weights are random!\n",
    "\n",
    "PyTorch provides a convenient way to build networks like this where a tensor is passed sequentially through operations, `nn.Sequential` ([documentation](https://pytorch.org/docs/master/nn.html#torch.nn.Sequential)). Using this to build the equivalent network:"
   ]
  },
  {
   "cell_type": "code",
   "execution_count": 38,
   "metadata": {},
   "outputs": [
    {
     "name": "stdout",
     "output_type": "stream",
     "text": [
      "Sequential(\n",
      "  (0): Linear(in_features=784, out_features=128, bias=True)\n",
      "  (1): ReLU()\n",
      "  (2): Linear(in_features=128, out_features=64, bias=True)\n",
      "  (3): ReLU()\n",
      "  (4): Linear(in_features=64, out_features=10, bias=True)\n",
      "  (5): Softmax()\n",
      ")\n"
     ]
    },
    {
     "data": {
      "image/png": "[encoded data removed]",
      "text/plain": [
       "<matplotlib.figure.Figure at 0x1193aa630>"
      ]
     },
     "metadata": {
      "image/png": {
       "height": 224,
       "width": 423
      }
     },
     "output_type": "display_data"
    }
   ],
   "source": [
    "# Hyperparameters for our network\n",
    "input_size = 784\n",
    "hidden_sizes = [128, 64]\n",
    "output_size = 10\n",
    "\n",
    "# Build a feed-forward network\n",
    "model = nn.Sequential(nn.Linear(input_size, hidden_sizes[0]),\n",
    "                      nn.ReLU(),\n",
    "                      nn.Linear(hidden_sizes[0], hidden_sizes[1]),\n",
    "                      nn.ReLU(),\n",
    "                      nn.Linear(hidden_sizes[1], output_size),\n",
    "                      nn.Softmax(dim=1))\n",
    "print(model)\n",
    "\n",
    "# Forward pass through the network and display output\n",
    "images, labels = next(iter(trainloader))\n",
    "images.resize_(images.shape[0], 1, 784)\n",
    "ps = model.forward(images[0,:])\n",
    "helper.view_classify(images[0].view(1, 28, 28), ps)"
   ]
  },
  {
   "cell_type": "markdown",
   "metadata": {},
   "source": [
    "You can also pass in an `OrderedDict` to name the individual layers and operations. Note that a dictionary keys must be unique, so _each operation must have a different name_."
   ]
  },
  {
   "cell_type": "code",
   "execution_count": 45,
   "metadata": {},
   "outputs": [
    {
     "data": {
      "text/plain": [
       "Sequential(\n",
       "  (fc1): Linear(in_features=784, out_features=128, bias=True)\n",
       "  (relu1): ReLU()\n",
       "  (fc2): Linear(in_features=128, out_features=64, bias=True)\n",
       "  (relu2): ReLU()\n",
       "  (output): Linear(in_features=64, out_features=10, bias=True)\n",
       "  (softmax): Softmax()\n",
       ")"
      ]
     },
     "execution_count": 45,
     "metadata": {},
     "output_type": "execute_result"
    }
   ],
   "source": [
    "from collections import OrderedDict\n",
    "model = nn.Sequential(OrderedDict([\n",
    "                      ('fc1', nn.Linear(input_size, hidden_sizes[0])),\n",
    "                      ('relu1', nn.ReLU()),\n",
    "                      ('fc2', nn.Linear(hidden_sizes[0], hidden_sizes[1])),\n",
    "                      ('relu2', nn.ReLU()),\n",
    "                      ('output', nn.Linear(hidden_sizes[1], output_size)),\n",
    "                      ('softmax', nn.Softmax(dim=1))]))\n",
    "model"
   ]
  },
  {
   "cell_type": "markdown",
   "metadata": {},
   "source": [
    "Now it's your turn to build a simple network, use any method I've covered so far. In the next notebook, you'll learn how to train a network so it can make good predictions.\n",
    "\n",
    ">**Exercise:** Build a network to classify the MNIST images with _three_ hidden layers. Use 400 units in the first hidden layer, 200 units in the second layer, and 100 units in the third layer. Each hidden layer should have a ReLU activation function, and use softmax on the output layer. "
   ]
  },
  {
   "cell_type": "code",
   "execution_count": null,
   "metadata": {},
   "outputs": [],
   "source": [
    "## TODO: Your network here"
   ]
  },
  {
   "cell_type": "code",
   "execution_count": null,
   "metadata": {},
   "outputs": [],
   "source": [
    "## Run this cell with your model to make sure it works ##\n",
    "# Forward pass through the network and display output\n",
    "images, labels = next(iter(trainloader))\n",
    "images.resize_(images.shape[0], 1, 784)\n",
    "ps = model.forward(images[0,:])\n",
    "helper.view_classify(images[0].view(1, 28, 28), ps)"
   ]
  }
 ],
 "metadata": {
  "kernelspec": {
   "display_name": "Python 3",
   "language": "python",
   "name": "python3"
  },
  "language_info": {
   "codemirror_mode": {
    "name": "ipython",
    "version": 3
   },
   "file_extension": ".py",
   "mimetype": "text/x-python",
   "name": "python",
   "nbconvert_exporter": "python",
   "pygments_lexer": "ipython3",
   "version": "3.6.7"
  }
 },
 "nbformat": 4,
 "nbformat_minor": 2
}
